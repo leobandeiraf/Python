{
 "cells": [
  {
   "cell_type": "markdown",
   "metadata": {},
   "source": [
    "# Desenvolva utilizando LAÇOS DE REPETIÇÃO"
   ]
  },
  {
   "cell_type": "markdown",
   "metadata": {},
   "source": [
    "**Questão 01**<br>\n",
    "Escreva um programa em Python que pede ao utilizador que lhe forneça um inteiro correspondente a um número de segundos e que calcula o número de dias correspondentes a esse número de segundos.<br>\n",
    "1. O número de dias é fornecido como um real.  \n",
    "2. O  programa  termina  quando  o  utilizador  fornece  um  número  negativo. \n",
    "3. O  seu programa deve possibilitar a seguinte interação: \n",
    "        A. Escreva um número de segundos (um número negativo para terminar) ? 45 O número de dias correspondente é 0.0005208333333333333 \n",
    "        B. Escreva um número de segundos (um número negativo para terminar) ? 6654441 O número de dias correspondente é 77.01899305555555 \n",
    "        C. Escreva um número de segundos (um número negativo para terminar) ? -1"
   ]
  },
  {
   "cell_type": "code",
   "execution_count": null,
   "metadata": {
    "scrolled": true
   },
   "outputs": [],
   "source": [
    "segundos = 0\n",
    "\n",
    "while segundos >= 0:\n",
    "    segundos = int(input(\"Escreva um número de segundos (um número negativo para terminar): \"))\n",
    "    dias = segundos / 86400\n",
    "    if dias >= 0:\n",
    "        print(dias)"
   ]
  },
  {
   "cell_type": "markdown",
   "metadata": {},
   "source": [
    "**Questão 02**<br>\n",
    "Escreva um programa em Python que lê uma sequência de dígitos, sendo cada um dos dígitos fornecido numa linha separada, e calcula o número inteiro composto por esses dígitos, pela ordem fornecida. Para terminar a sequência de dígitos é fornecido ao programa o inteiro −1.<br>\n",
    "Por exemplo, lendo os dígitos 1 5 4 5 8, o programa calcula o número inteiro 15458. "
   ]
  },
  {
   "cell_type": "code",
   "execution_count": null,
   "metadata": {},
   "outputs": [],
   "source": [
    "loop_01 = True\n",
    "sequencia = \"\"\n",
    "\n",
    "while loop_01 == True:\n",
    "    digito = str(input(\"Digite um dígito para compor um número inteiro: (Digite '-1' se deseja encerrar a sequência): \"))\n",
    "    if digito == \"-1\":\n",
    "        loop = False\n",
    "        break        \n",
    "    sequencia = sequencia + digito\n",
    "print(sequencia)"
   ]
  },
  {
   "cell_type": "markdown",
   "metadata": {},
   "source": [
    "# Desenvolva utilizando LISTAS"
   ]
  },
  {
   "cell_type": "markdown",
   "metadata": {},
   "source": [
    "**Questão 01**<br>\n",
    "Neste exercício, você criará um programa que lê palavras do usuário até que o usuário entre com uma linha em branco. Após o usuário digitar uma linha em branco, seu programa deve exibir cada palavra inserida pelo usuário exatamente uma vez. As palavras devem ser exibidas em na mesma ordem em que foram inseridos. Por exemplo:<br>\n",
    "Se o usuário digitar: <br>\n",
    "    primeiro<br> \n",
    "    segundo<br> \n",
    "    primeiro<br> \n",
    "    terceiro<br> \n",
    "    segundo<br> \n",
    "então seu programa deve exibir:<br> \n",
    "primeiro<br> segundo<br> terceiro "
   ]
  },
  {
   "cell_type": "code",
   "execution_count": null,
   "metadata": {
    "scrolled": true
   },
   "outputs": [],
   "source": [
    "loop_02 = True\n",
    "lista = []\n",
    "\n",
    "while loop_02 == True:\n",
    "    palavra = input(\"Digite uma palavra para montarmos uma lista sem repetições: (Deixe o campo vazio se deseja gerar a lista): \")\n",
    "    if palavra == \"\":\n",
    "        loop = False\n",
    "        break\n",
    "    lista.append(palavra)\n",
    "\n",
    "lista_unica = []\n",
    "for i in range(len(lista)):\n",
    "    if lista[i] in lista_unica:\n",
    "        continue\n",
    "    else:\n",
    "        lista_unica.append(lista[i])\n",
    "\n",
    "for i in range(len(lista_unica)):\n",
    "    print(lista_unica[i])"
   ]
  },
  {
   "cell_type": "markdown",
   "metadata": {},
   "source": [
    "**Questão 02**<br>\n",
    "Crie um programa que leia números inteiros do usuário até que uma linha em branco seja inserida. Uma vez que todos os números inteiros foram lidos, seu programa deve exibir todos os números, seguidos por todos os zeros, seguidos por todos os números positivos. Dentro de cada grupo, os números devem ser exibidos na mesma ordem em que foram inseridos pelo usuário.  Por exemplo:<br>\n",
    "Se o usuário digitar os valores 3, -4, 1, 0, -1, 0 e -2,  Então seu programa deve gerar os valores -4, -1, -2, 0, 0, 3 e 1.  Seu programa deve exibir cada valor em sua própria linha. "
   ]
  },
  {
   "cell_type": "code",
   "execution_count": null,
   "metadata": {},
   "outputs": [],
   "source": [
    "loop_03 = True\n",
    "lista_numeros = []\n",
    "\n",
    "while loop_03 == True:\n",
    "    numero = input(\"Digite um valor: (Informe um valor vazio para formar a lista): \")\n",
    "    if numero == \"\":\n",
    "        loop_03 = False\n",
    "        break\n",
    "    lista_numeros.append(float(numero))\n",
    "\n",
    "lista_numeros.sort()\n",
    "\n",
    "for i in range(len(lista_numeros)):\n",
    "    print(lista_numeros[i])"
   ]
  },
  {
   "cell_type": "markdown",
   "metadata": {},
   "source": [
    "# Desenvolva utilizando DICIONÁRIOS"
   ]
  },
  {
   "cell_type": "markdown",
   "metadata": {},
   "source": [
    "**Questão 01**<br>\n",
    "Escreva um programa que permita gerenciar o banco de dados de clientes de uma empresa. Os clientes serão salvos em um dicionário no qual a chave de cada cliente será seu CPF, e o valor será outro dicionário com os dados do cliente (nome, endereço, telefone, email, preferencial), onde preferencial terá o valor True se for de um cliente especial. O programa deve solicitar ao usuário uma opção no seguinte menu: (1) Adicionar cliente, (2) Remover cliente, (3) Mostrar cliente, (4) Listar todos os clientes, (5) Listar clientes preferenciais, (6) Terminar. Dependendo da opção escolhida, o programa deverá fazer o seguinte: <br><br>\n",
    "\n",
    "1. Peça dados do cliente, crie um dicionário com os dados e adicione-o ao banco de dados. <br>\n",
    "2. Peça o CPF do cliente e exclua seus dados do banco de dados. <br>\n",
    "3. Peça o CPF do cliente e mostre seus dados. <br>\n",
    "4. Mostrar lista de todos os clientes no banco de dados com seu CPF e nome. <br>\n",
    "5. Mostre a lista de clientes preferenciais no banco de dados com seu CPF e nome. <br>\n",
    "6. Termine o programa. "
   ]
  },
  {
   "cell_type": "code",
   "execution_count": null,
   "metadata": {},
   "outputs": [],
   "source": [
    "def __init__():\n",
    "    opcao = input(\"Escolha uma opção para prosseguirmos: \\n(1) Adicionar cliente \\n(2) Remover cliente \\n(3) Mostrar cliente \\n(4) Listar todos os clientes \\n(5) Listar clientes preferenciais \\n(6) Terminar aplicação \\n\")\n",
    "\n",
    "    if opcao == \"1\":\n",
    "        adicionarCliente()\n",
    "    elif opcao == \"2\":\n",
    "        removerCliente()\n",
    "    elif opcao == \"3\":\n",
    "        mostrarCliente()\n",
    "    elif opcao == \"4\":\n",
    "        listarClientes()\n",
    "    elif opcao == \"5\":\n",
    "        listarClientesPreferenciais()\n",
    "    elif opcao == \"6\":\n",
    "        finalizarApp()\n",
    "    else:\n",
    "        print(\"Nenhuma opção válida! \\n\\n\")\n",
    "        __init__()\n",
    "        \n",
    "def bancodedados():\n",
    "    global dataset\n",
    "    dataset = {\n",
    "        \"01234567891\": {\n",
    "        \"Nome\": \"Leonardo\",\n",
    "        \"Endereço\": \"Rua Fícticia, 100\",\n",
    "        \"Telefone\": \"98888-4444\",\n",
    "        \"Email\": \"leobandeiraf@gmail.com\",\n",
    "        \"Preferencial\": False\n",
    "        },\n",
    "        \"09876543211\": {\n",
    "        \"Nome\": \"Jordana\",\n",
    "        \"Endereço\": \"Rua Fícticia, 200\",\n",
    "        \"Telefone\": \"98888-2121\",\n",
    "        \"Email\": \"jordana@exemplo.com\",\n",
    "        \"Preferencial\": True\n",
    "        }\n",
    "    }\n",
    "\n",
    "def adicionarCliente():\n",
    "    global dataset\n",
    "    dados = {\n",
    "        \"Nome\": \"\",\n",
    "        \"Endereço\": \"\",\n",
    "        \"Telefone\": \"\",\n",
    "        \"Email\": \"\",\n",
    "        \"Preferencial\": \"\"\n",
    "    }\n",
    "\n",
    "    print(\"Informe os dados para cadastro do cliente: (Em 'Preferencial' informe (S/N): )\")\n",
    "\n",
    "    cpf = input(\"Informe o número de CPF: \")\n",
    "    if cpf in dataset:\n",
    "        print(\"O cadastro já existe! \\n\")\n",
    "        adicionarCliente()\n",
    "\n",
    "    for i in dados:\n",
    "        dados[i] = input(f\"{i}: \")\n",
    "    if dados[\"Preferencial\"].upper() == \"S\":\n",
    "        dados[\"Preferencial\"] = True\n",
    "    else:\n",
    "        dados[\"Preferencial\"] = False\n",
    "\n",
    "    dataset[cpf] = dados\n",
    "\n",
    "    print(\"Cadastro efetuado com sucesso! \\n\")\n",
    "\n",
    "    __init__()\n",
    "    \n",
    "def removerCliente():\n",
    "    global dataset\n",
    "    \n",
    "    remover = dataset.pop(input(\"Digite o CPF do cliente que deseja remover do nosso banco de dados: \"), \"CPF não localizado\")\n",
    "    \n",
    "    if remover == \"CPF não localizado\":\n",
    "        print(\"CPF não localizado, tente novamente!\")\n",
    "        removerCliente()               \n",
    "        \n",
    "    print(\"Cadastro deletado com sucesso! \\n\")\n",
    "    \n",
    "    __init__()\n",
    "    \n",
    "def mostrarCliente():\n",
    "    global dataset\n",
    "    \n",
    "    cpfConsulta = input(\"Digite o CPF que deseja consultar: \")\n",
    "    exibir = dataset.get(cpfConsulta, \"CPF não localizado\")\n",
    "    \n",
    "    if exibir == \"CPF não localizado\":\n",
    "        print(\"CPF não localizado, tente novamente!\")\n",
    "        mostrarCliente()\n",
    "    \n",
    "    print(\n",
    "        \"  Nome: \", dataset[cpfConsulta][\"Nome\"], \"\\n\",  \n",
    "        \" Endereço: \", dataset[cpfConsulta][\"Endereço\"], \"\\n\",  \n",
    "        \" Telefone: \", dataset[cpfConsulta][\"Telefone\"], \"\\n\",  \n",
    "        \" Email: \", dataset[cpfConsulta][\"Email\"], \"\\n\",  \n",
    "        \" Preferencial: \", dataset[cpfConsulta][\"Preferencial\"], \"\\n\"  \n",
    "    )\n",
    "    \n",
    "    __init__()\n",
    "    \n",
    "def listarClientes():\n",
    "    global dataset\n",
    "    \n",
    "    print(\"Estes são todos os nossos clientes cadastrados: \\n\")\n",
    "    \n",
    "    for i in dataset:\n",
    "        print(\n",
    "        \"  CPF:\", i, \" | Nome:\", dataset[i][\"Nome\"], \"\\n\" \n",
    "    )\n",
    "        \n",
    "    __init__()\n",
    "    \n",
    "def listarClientesPreferenciais():\n",
    "    global dataset\n",
    "    \n",
    "    print(\"Estes são todos os nossos clientes preferenciais cadastrados: \\n\")\n",
    "    \n",
    "    for i in dataset:\n",
    "        if dataset[i][\"Preferencial\"] == True:\n",
    "            print(\n",
    "            \"  CPF:\", i, \" | Nome:\", dataset[i][\"Nome\"], \"\\n\" \n",
    "        )\n",
    "        \n",
    "    __init__()\n",
    "    \n",
    "def finalizarApp():\n",
    "    print(\"Finalizando aplicação!!...\")\n",
    "\n",
    "bancodedados()\n",
    "__init__()"
   ]
  },
  {
   "cell_type": "markdown",
   "metadata": {},
   "source": [
    "**Questão 02**<br>\n",
    "Implementar o gerador de números primos como uma expressão (dica: use o módulo itertools) "
   ]
  },
  {
   "cell_type": "code",
   "execution_count": null,
   "metadata": {},
   "outputs": [],
   "source": [
    "from itertools import count\n",
    "\n",
    "def primo(n):\n",
    "    if n < 2:\n",
    "        return False\n",
    "    \n",
    "    for valor in range(2, n):\n",
    "        if n % valor == 0:\n",
    "            return False\n",
    "        \n",
    "    return True\n",
    "\n",
    "for i in count():\n",
    "    if primo(i) and i < 100:\n",
    "        print(i)"
   ]
  }
 ],
 "metadata": {
  "kernelspec": {
   "display_name": "Python 3",
   "language": "python",
   "name": "python3"
  },
  "language_info": {
   "codemirror_mode": {
    "name": "ipython",
    "version": 3
   },
   "file_extension": ".py",
   "mimetype": "text/x-python",
   "name": "python",
   "nbconvert_exporter": "python",
   "pygments_lexer": "ipython3",
   "version": "3.8.3"
  }
 },
 "nbformat": 4,
 "nbformat_minor": 4
}
