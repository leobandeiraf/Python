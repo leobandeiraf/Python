{
 "cells": [
  {
   "cell_type": "markdown",
   "metadata": {},
   "source": [
    "# Desenvolva utilizando LAÇOS DE REPETIÇÃO"
   ]
  },
  {
   "cell_type": "markdown",
   "metadata": {},
   "source": [
    "**Questão 01**<br>\n",
    "Escreva um programa em Python que pede ao utilizador que lhe forneça um inteiro correspondente a um número de segundos e que calcula o número de dias correspondentes a esse número de segundos.<br>\n",
    "1. O número de dias é fornecido como um real.  \n",
    "2. O  programa  termina  quando  o  utilizador  fornece  um  número  negativo. \n",
    "3. O  seu programa deve possibilitar a seguinte interação: \n",
    "        A. Escreva um número de segundos (um número negativo para terminar) ? 45 O número de dias correspondente é 0.0005208333333333333 \n",
    "        B. Escreva um número de segundos (um número negativo para terminar) ? 6654441 O número de dias correspondente é 77.01899305555555 \n",
    "        C. Escreva um número de segundos (um número negativo para terminar) ? -1"
   ]
  },
  {
   "cell_type": "code",
   "execution_count": null,
   "metadata": {
    "scrolled": true
   },
   "outputs": [],
   "source": [
    "segundos = 0\n",
    "\n",
    "while segundos >= 0:\n",
    "    segundos = int(input(\"Escreva um número de segundos (um número negativo para terminar): \"))\n",
    "    dias = segundos / 86400\n",
    "    if dias >= 0:\n",
    "        print(dias)"
   ]
  },
  {
   "cell_type": "markdown",
   "metadata": {},
   "source": [
    "**Questão 02**<br>\n",
    "Escreva um programa em Python que lê uma sequência de dígitos, sendo cada um dos dígitos fornecido numa linha separada, e calcula o número inteiro composto por esses dígitos, pela ordem fornecida. Para terminar a sequência de dígitos é fornecido ao programa o inteiro −1.<br>\n",
    "Por exemplo, lendo os dígitos 1 5 4 5 8, o programa calcula o número inteiro 15458. "
   ]
  },
  {
   "cell_type": "code",
   "execution_count": null,
   "metadata": {},
   "outputs": [],
   "source": [
    "loop_01 = True\n",
    "sequencia = \"\"\n",
    "\n",
    "while loop_01 == True:\n",
    "    digito = str(input(\"Digite um dígito para compor um número inteiro: (Digite '-1' se deseja encerrar a sequência): \"))\n",
    "    if digito == \"-1\":\n",
    "        loop = False\n",
    "        break        \n",
    "    sequencia = sequencia + digito\n",
    "print(sequencia)"
   ]
  },
  {
   "cell_type": "markdown",
   "metadata": {},
   "source": [
    "# Desenvolva utilizando LISTAS"
   ]
  },
  {
   "cell_type": "markdown",
   "metadata": {},
   "source": [
    "**Questão 01**<br>\n",
    "Neste exercício, você criará um programa que lê palavras do usuário até que o usuário entre com uma linha em branco. Após o usuário digitar uma linha em branco, seu programa deve exibir cada palavra inserida pelo usuário exatamente uma vez. As palavras devem ser exibidas em na mesma ordem em que foram inseridos. Por exemplo:<br>\n",
    "Se o usuário digitar: <br>\n",
    "    primeiro<br> \n",
    "    segundo<br> \n",
    "    primeiro<br> \n",
    "    terceiro<br> \n",
    "    segundo<br> \n",
    "então seu programa deve exibir:<br> \n",
    "primeiro<br> segundo<br> terceiro "
   ]
  },
  {
   "cell_type": "code",
   "execution_count": null,
   "metadata": {
    "scrolled": true
   },
   "outputs": [],
   "source": [
    "loop_02 = True\n",
    "lista = []\n",
    "\n",
    "while loop_02 == True:\n",
    "    palavra = input(\"Digite uma palavra para montarmos uma lista sem repetições: (Deixe o campo vazio se deseja gerar a lista): \")\n",
    "    if palavra == \"\":\n",
    "        loop = False\n",
    "        break\n",
    "    lista.append(palavra)\n",
    "\n",
    "lista_unica = []\n",
    "for i in range(len(lista)):\n",
    "    if lista[i] in lista_unica:\n",
    "        continue\n",
    "    else:\n",
    "        lista_unica.append(lista[i])\n",
    "\n",
    "for i in range(len(lista_unica)):\n",
    "    print(lista_unica[i])"
   ]
  },
  {
   "cell_type": "markdown",
   "metadata": {},
   "source": [
    "**Questão 02**<br>\n",
    "Crie um programa que leia números inteiros do usuário até que uma linha em branco seja inserida. Uma vez que todos os números inteiros foram lidos, seu programa deve exibir todos os números, seguidos por todos os zeros, seguidos por todos os números positivos. Dentro de cada grupo, os números devem ser exibidos na mesma ordem em que foram inseridos pelo usuário.  Por exemplo:<br>\n",
    "Se o usuário digitar os valores 3, -4, 1, 0, -1, 0 e -2,  Então seu programa deve gerar os valores -4, -1, -2, 0, 0, 3 e 1.  Seu programa deve exibir cada valor em sua própria linha. "
   ]
  },
  {
   "cell_type": "code",
   "execution_count": null,
   "metadata": {},
   "outputs": [],
   "source": [
    "loop_03 = True\n",
    "lista_numeros = []\n",
    "\n",
    "while loop_03 == True:\n",
    "    numero = input(\"Digite um valor: (Informe um valor vazio para formar a lista): \")\n",
    "    if numero == \"\":\n",
    "        loop_03 = False\n",
    "        break\n",
    "    lista_numeros.append(float(numero))\n",
    "\n",
    "lista_numeros.sort()\n",
    "\n",
    "for i in range(len(lista_numeros)):\n",
    "    print(lista_numeros[i])"
   ]
  },
  {
   "cell_type": "code",
   "execution_count": null,
   "metadata": {},
   "outputs": [],
   "source": []
  }
 ],
 "metadata": {
  "kernelspec": {
   "display_name": "Python 3",
   "language": "python",
   "name": "python3"
  },
  "language_info": {
   "codemirror_mode": {
    "name": "ipython",
    "version": 3
   },
   "file_extension": ".py",
   "mimetype": "text/x-python",
   "name": "python",
   "nbconvert_exporter": "python",
   "pygments_lexer": "ipython3",
   "version": "3.8.3"
  }
 },
 "nbformat": 4,
 "nbformat_minor": 4
}
